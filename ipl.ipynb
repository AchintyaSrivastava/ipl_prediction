{
 "cells": [
  {
   "cell_type": "code",
   "execution_count": 3,
   "metadata": {},
   "outputs": [],
   "source": [
    "from pandas import Series,DataFrame\n",
    "import numpy as np\n",
    "import pandas as pd\n",
    "import matplotlib.pyplot as plt\n",
    "%matplotlib inline\n",
    "import seaborn as sns\n",
    "sns.set_style(\"whitegrid\")"
   ]
  },
  {
   "cell_type": "code",
   "execution_count": 4,
   "metadata": {},
   "outputs": [],
   "source": [
    "df=pd.read_csv(\"matches.csv\")\n",
    "df1=DataFrame([df[\"city\"],df[\"team1\"],df[\"team2\"],df[\"toss_winner\"],df[\"toss_decision\"],df[\"winner\"],df[\"venue\"]]).T"
   ]
  },
  {
   "cell_type": "code",
   "execution_count": 5,
   "metadata": {},
   "outputs": [
    {
     "data": {
      "text/html": [
       "<div>\n",
       "<style scoped>\n",
       "    .dataframe tbody tr th:only-of-type {\n",
       "        vertical-align: middle;\n",
       "    }\n",
       "\n",
       "    .dataframe tbody tr th {\n",
       "        vertical-align: top;\n",
       "    }\n",
       "\n",
       "    .dataframe thead th {\n",
       "        text-align: right;\n",
       "    }\n",
       "</style>\n",
       "<table border=\"1\" class=\"dataframe\">\n",
       "  <thead>\n",
       "    <tr style=\"text-align: right;\">\n",
       "      <th></th>\n",
       "      <th>city</th>\n",
       "      <th>team1</th>\n",
       "      <th>team2</th>\n",
       "      <th>toss_winner</th>\n",
       "      <th>toss_decision</th>\n",
       "      <th>winner</th>\n",
       "      <th>venue</th>\n",
       "    </tr>\n",
       "  </thead>\n",
       "  <tbody>\n",
       "    <tr>\n",
       "      <th>0</th>\n",
       "      <td>Hyderabad</td>\n",
       "      <td>Sunrisers Hyderabad</td>\n",
       "      <td>Royal Challengers Bangalore</td>\n",
       "      <td>Royal Challengers Bangalore</td>\n",
       "      <td>field</td>\n",
       "      <td>Sunrisers Hyderabad</td>\n",
       "      <td>Rajiv Gandhi International Stadium, Uppal</td>\n",
       "    </tr>\n",
       "    <tr>\n",
       "      <th>1</th>\n",
       "      <td>Pune</td>\n",
       "      <td>Mumbai Indians</td>\n",
       "      <td>Rising Pune Supergiant</td>\n",
       "      <td>Rising Pune Supergiant</td>\n",
       "      <td>field</td>\n",
       "      <td>Rising Pune Supergiant</td>\n",
       "      <td>Maharashtra Cricket Association Stadium</td>\n",
       "    </tr>\n",
       "    <tr>\n",
       "      <th>2</th>\n",
       "      <td>Rajkot</td>\n",
       "      <td>Gujarat Lions</td>\n",
       "      <td>Kolkata Knight Riders</td>\n",
       "      <td>Kolkata Knight Riders</td>\n",
       "      <td>field</td>\n",
       "      <td>Kolkata Knight Riders</td>\n",
       "      <td>Saurashtra Cricket Association Stadium</td>\n",
       "    </tr>\n",
       "    <tr>\n",
       "      <th>3</th>\n",
       "      <td>Indore</td>\n",
       "      <td>Rising Pune Supergiant</td>\n",
       "      <td>Kings XI Punjab</td>\n",
       "      <td>Kings XI Punjab</td>\n",
       "      <td>field</td>\n",
       "      <td>Kings XI Punjab</td>\n",
       "      <td>Holkar Cricket Stadium</td>\n",
       "    </tr>\n",
       "    <tr>\n",
       "      <th>4</th>\n",
       "      <td>Bangalore</td>\n",
       "      <td>Royal Challengers Bangalore</td>\n",
       "      <td>Delhi Daredevils</td>\n",
       "      <td>Royal Challengers Bangalore</td>\n",
       "      <td>bat</td>\n",
       "      <td>Royal Challengers Bangalore</td>\n",
       "      <td>M Chinnaswamy Stadium</td>\n",
       "    </tr>\n",
       "  </tbody>\n",
       "</table>\n",
       "</div>"
      ],
      "text/plain": [
       "        city                        team1                        team2  \\\n",
       "0  Hyderabad          Sunrisers Hyderabad  Royal Challengers Bangalore   \n",
       "1       Pune               Mumbai Indians       Rising Pune Supergiant   \n",
       "2     Rajkot                Gujarat Lions        Kolkata Knight Riders   \n",
       "3     Indore       Rising Pune Supergiant              Kings XI Punjab   \n",
       "4  Bangalore  Royal Challengers Bangalore             Delhi Daredevils   \n",
       "\n",
       "                   toss_winner toss_decision                       winner  \\\n",
       "0  Royal Challengers Bangalore         field          Sunrisers Hyderabad   \n",
       "1       Rising Pune Supergiant         field       Rising Pune Supergiant   \n",
       "2        Kolkata Knight Riders         field        Kolkata Knight Riders   \n",
       "3              Kings XI Punjab         field              Kings XI Punjab   \n",
       "4  Royal Challengers Bangalore           bat  Royal Challengers Bangalore   \n",
       "\n",
       "                                       venue  \n",
       "0  Rajiv Gandhi International Stadium, Uppal  \n",
       "1    Maharashtra Cricket Association Stadium  \n",
       "2     Saurashtra Cricket Association Stadium  \n",
       "3                     Holkar Cricket Stadium  \n",
       "4                      M Chinnaswamy Stadium  "
      ]
     },
     "execution_count": 5,
     "metadata": {},
     "output_type": "execute_result"
    }
   ],
   "source": [
    "df1.head()"
   ]
  },
  {
   "cell_type": "code",
   "execution_count": 6,
   "metadata": {},
   "outputs": [],
   "source": [
    "def team(name):\n",
    "    hy=[]\n",
    "    ct=[]\n",
    "    t2=[]\n",
    "    td=[]\n",
    "    w=[]\n",
    "    v=[]\n",
    "    t1=[]\n",
    "    for i in np.arange(len(df1[\"city\"])):\n",
    "        if df1[\"team1\"][i]==name:\n",
    "            ct=np.append(ct,df1[\"city\"][i])\n",
    "            t1=np.append(t1,name)\n",
    "            t2=np.append(t2,df1[\"team2\"][i])\n",
    "            td=np.append(td,df1[\"toss_decision\"][i])\n",
    "            w=np.append(w,df1[\"winner\"][i])\n",
    "            v=np.append(v,df1[\"venue\"][i])\n",
    "    teamdf=DataFrame([ct,t1,t2,td,w,v],index=[\"city\",\"team1\",\"team2\",\"toss_decision\",\"winner\",\"venue\"]).T\n",
    "    return teamdf"
   ]
  },
  {
   "cell_type": "code",
   "execution_count": 7,
   "metadata": {},
   "outputs": [
    {
     "data": {
      "text/html": [
       "<div>\n",
       "<style scoped>\n",
       "    .dataframe tbody tr th:only-of-type {\n",
       "        vertical-align: middle;\n",
       "    }\n",
       "\n",
       "    .dataframe tbody tr th {\n",
       "        vertical-align: top;\n",
       "    }\n",
       "\n",
       "    .dataframe thead th {\n",
       "        text-align: right;\n",
       "    }\n",
       "</style>\n",
       "<table border=\"1\" class=\"dataframe\">\n",
       "  <thead>\n",
       "    <tr style=\"text-align: right;\">\n",
       "      <th></th>\n",
       "      <th>city</th>\n",
       "      <th>team1</th>\n",
       "      <th>team2</th>\n",
       "      <th>toss_decision</th>\n",
       "      <th>winner</th>\n",
       "      <th>venue</th>\n",
       "    </tr>\n",
       "  </thead>\n",
       "  <tbody>\n",
       "    <tr>\n",
       "      <th>0</th>\n",
       "      <td>Mumbai</td>\n",
       "      <td>Kolkata Knight Riders</td>\n",
       "      <td>Mumbai Indians</td>\n",
       "      <td>field</td>\n",
       "      <td>Mumbai Indians</td>\n",
       "      <td>Wankhede Stadium</td>\n",
       "    </tr>\n",
       "    <tr>\n",
       "      <th>1</th>\n",
       "      <td>Kolkata</td>\n",
       "      <td>Kolkata Knight Riders</td>\n",
       "      <td>Sunrisers Hyderabad</td>\n",
       "      <td>field</td>\n",
       "      <td>Kolkata Knight Riders</td>\n",
       "      <td>Eden Gardens</td>\n",
       "    </tr>\n",
       "    <tr>\n",
       "      <th>2</th>\n",
       "      <td>Kolkata</td>\n",
       "      <td>Kolkata Knight Riders</td>\n",
       "      <td>Gujarat Lions</td>\n",
       "      <td>field</td>\n",
       "      <td>Gujarat Lions</td>\n",
       "      <td>Eden Gardens</td>\n",
       "    </tr>\n",
       "    <tr>\n",
       "      <th>3</th>\n",
       "      <td>Kolkata</td>\n",
       "      <td>Kolkata Knight Riders</td>\n",
       "      <td>Royal Challengers Bangalore</td>\n",
       "      <td>field</td>\n",
       "      <td>Kolkata Knight Riders</td>\n",
       "      <td>Eden Gardens</td>\n",
       "    </tr>\n",
       "    <tr>\n",
       "      <th>4</th>\n",
       "      <td>Kolkata</td>\n",
       "      <td>Kolkata Knight Riders</td>\n",
       "      <td>Rising Pune Supergiant</td>\n",
       "      <td>field</td>\n",
       "      <td>Rising Pune Supergiant</td>\n",
       "      <td>Eden Gardens</td>\n",
       "    </tr>\n",
       "  </tbody>\n",
       "</table>\n",
       "</div>"
      ],
      "text/plain": [
       "      city                  team1                        team2 toss_decision  \\\n",
       "0   Mumbai  Kolkata Knight Riders               Mumbai Indians         field   \n",
       "1  Kolkata  Kolkata Knight Riders          Sunrisers Hyderabad         field   \n",
       "2  Kolkata  Kolkata Knight Riders                Gujarat Lions         field   \n",
       "3  Kolkata  Kolkata Knight Riders  Royal Challengers Bangalore         field   \n",
       "4  Kolkata  Kolkata Knight Riders       Rising Pune Supergiant         field   \n",
       "\n",
       "                   winner             venue  \n",
       "0          Mumbai Indians  Wankhede Stadium  \n",
       "1   Kolkata Knight Riders      Eden Gardens  \n",
       "2           Gujarat Lions      Eden Gardens  \n",
       "3   Kolkata Knight Riders      Eden Gardens  \n",
       "4  Rising Pune Supergiant      Eden Gardens  "
      ]
     },
     "execution_count": 7,
     "metadata": {},
     "output_type": "execute_result"
    }
   ],
   "source": [
    "team(\"Kolkata Knight Riders\").head()"
   ]
  },
  {
   "cell_type": "code",
   "execution_count": 8,
   "metadata": {},
   "outputs": [],
   "source": [
    "def winfrq(team2): \n",
    "    kkr=team(team2) \n",
    "    pw=0\n",
    "    for i in np.arange(len(kkr[\"city\"])):\n",
    "        if (kkr[\"winner\"][i]==team2):\n",
    "            pw=(pw+1)\n",
    "    return pw"
   ]
  },
  {
   "cell_type": "code",
   "execution_count": 9,
   "metadata": {},
   "outputs": [],
   "source": [
    "def px4w(tem):\n",
    "    kkr=team(tem)     \n",
    "    pw1=winfrq(tem)\n",
    "                            #this is the function taking the team and this giving the winnning proobablity for fielding and batting respectively\n",
    "    pb=0\n",
    "    pf=0\n",
    "    for i in np.arange(len(kkr[\"city\"])):\n",
    "        if (kkr[\"toss_decision\"][i]==\"field\") & (kkr[\"winner\"][i]==tem):\n",
    "             pf=(pf+1)\n",
    "        elif (kkr[\"toss_decision\"][i]==\"bat\") & (kkr[\"winner\"][i]==tem):\n",
    "             pb=(pb+1)\n",
    "    return pb/pw1,pf/pw1"
   ]
  },
  {
   "cell_type": "code",
   "execution_count": 10,
   "metadata": {},
   "outputs": [
    {
     "data": {
      "text/plain": [
       "(0.5172413793103449, 0.4827586206896552)"
      ]
     },
     "execution_count": 10,
     "metadata": {},
     "output_type": "execute_result"
    }
   ],
   "source": [
    "(px4w(\"Kolkata Knight Riders\"))               #so this give sthe fdact that the prob of kkr winning field first is more than bat first"
   ]
  },
  {
   "cell_type": "code",
   "execution_count": 11,
   "metadata": {},
   "outputs": [],
   "source": [
    "venues=Series(np.unique(df1[\"venue\"]))"
   ]
  },
  {
   "cell_type": "code",
   "execution_count": 12,
   "metadata": {},
   "outputs": [],
   "source": [
    "def ven(tem,ground):\n",
    "    kkr=team(tem)  \n",
    "    pw1=winfrq(tem)\n",
    "    pb=0\n",
    "    for i in np.arange(len(kkr[\"city\"])):\n",
    "          if (kkr[\"venue\"][i]==ground) & (kkr[\"winner\"][i]==tem):\n",
    "                pb=pb+1\n",
    "    return pb/pw1 "
   ]
  },
  {
   "cell_type": "code",
   "execution_count": 13,
   "metadata": {},
   "outputs": [
    {
     "data": {
      "text/plain": [
       "0.06896551724137931"
      ]
     },
     "execution_count": 13,
     "metadata": {},
     "output_type": "execute_result"
    }
   ],
   "source": [
    "ven(\"Kolkata Knight Riders\",\"M Chinnaswamy Stadium\")\n",
    "#ven(\"Sunrisers Hyderabad\",\"Sharjah Cricket Stadium\")"
   ]
  },
  {
   "cell_type": "code",
   "execution_count": 14,
   "metadata": {},
   "outputs": [],
   "source": [
    "def winven(team):\n",
    "    s=[]\n",
    "    for i in venues:\n",
    "        s=np.append(s,(ven(team,i)))\n",
    "    dfven=DataFrame(s,index=venues,columns=[\"prob\"])   \n",
    "    return dfven"
   ]
  },
  {
   "cell_type": "code",
   "execution_count": 15,
   "metadata": {},
   "outputs": [],
   "source": [
    "def home(team,venu):\n",
    "    ph=(winven(team)[\"prob\"])[venu]\n",
    "    pa=1-ph\n",
    "    return ph,pa"
   ]
  },
  {
   "cell_type": "code",
   "execution_count": 16,
   "metadata": {},
   "outputs": [
    {
     "data": {
      "text/plain": [
       "Barabati Stadium                                        0.000000\n",
       "Brabourne Stadium                                       0.000000\n",
       "Buffalo Park                                            0.000000\n",
       "De Beers Diamond Oval                                   0.000000\n",
       "Dr DY Patil Sports Academy                              0.034483\n",
       "Dr. Y.S. Rajasekhara Reddy ACA-VDCA Cricket Stadium     0.000000\n",
       "Dubai International Cricket Stadium                     0.000000\n",
       "Eden Gardens                                            0.551724\n",
       "Feroz Shah Kotla                                        0.034483\n",
       "Green Park                                              0.000000\n",
       "Himachal Pradesh Cricket Association Stadium            0.000000\n",
       "Holkar Cricket Stadium                                  0.000000\n",
       "JSCA International Stadium Complex                      0.000000\n",
       "Kingsmead                                               0.000000\n",
       "M Chinnaswamy Stadium                                   0.068966\n",
       "MA Chidambaram Stadium, Chepauk                         0.000000\n",
       "Maharashtra Cricket Association Stadium                 0.000000\n",
       "Nehru Stadium                                           0.000000\n",
       "New Wanderers Stadium                                   0.000000\n",
       "Newlands                                                0.000000\n",
       "OUTsurance Oval                                         0.000000\n",
       "Punjab Cricket Association IS Bindra Stadium, Mohali    0.000000\n",
       "Punjab Cricket Association Stadium, Mohali              0.034483\n",
       "Rajiv Gandhi International Stadium, Uppal               0.068966\n",
       "Sardar Patel Stadium, Motera                            0.000000\n",
       "Saurashtra Cricket Association Stadium                  0.000000\n",
       "Sawai Mansingh Stadium                                  0.000000\n",
       "Shaheed Veer Narayan Singh International Stadium        0.000000\n",
       "Sharjah Cricket Stadium                                 0.034483\n",
       "Sheikh Zayed Stadium                                    0.034483\n",
       "St George's Park                                        0.000000\n",
       "Subrata Roy Sahara Stadium                              0.103448\n",
       "SuperSport Park                                         0.000000\n",
       "Vidarbha Cricket Association Stadium, Jamtha            0.000000\n",
       "Wankhede Stadium                                        0.034483\n",
       "Name: prob, dtype: float64"
      ]
     },
     "execution_count": 16,
     "metadata": {},
     "output_type": "execute_result"
    }
   ],
   "source": [
    "#home(\"Kolkata Knight Riders\",\"Eden Gardens\")\"\"\n",
    "(winven(\"Kolkata Knight Riders\")[\"prob\"])"
   ]
  },
  {
   "cell_type": "code",
   "execution_count": 17,
   "metadata": {},
   "outputs": [
    {
     "data": {
      "text/plain": [
       "array(['Chennai Super Kings', 'Deccan Chargers', 'Delhi Daredevils',\n",
       "       'Gujarat Lions', 'Kings XI Punjab', 'Kochi Tuskers Kerala',\n",
       "       'Kolkata Knight Riders', 'Mumbai Indians', 'Pune Warriors',\n",
       "       'Rajasthan Royals', 'Rising Pune Supergiant',\n",
       "       'Rising Pune Supergiants', 'Royal Challengers Bangalore',\n",
       "       'Sunrisers Hyderabad'], dtype=object)"
      ]
     },
     "execution_count": 17,
     "metadata": {},
     "output_type": "execute_result"
    }
   ],
   "source": [
    "teams=np.unique(df1[\"team2\"])\n",
    "teams"
   ]
  },
  {
   "cell_type": "code",
   "execution_count": 18,
   "metadata": {},
   "outputs": [],
   "source": [
    "def opps(tem,opp):\n",
    "    kkr=team(tem)  \n",
    "    pw1=winfrq(tem)\n",
    "    pb=0\n",
    "    for i in np.arange(len(kkr[\"city\"])):\n",
    "          if (kkr[\"team2\"][i]==opp) & (kkr[\"winner\"][i]==tem):\n",
    "                pb=pb+1\n",
    "    return pb/pw1 "
   ]
  },
  {
   "cell_type": "code",
   "execution_count": 19,
   "metadata": {},
   "outputs": [],
   "source": [
    "def oppdis(team):\n",
    "    s=[]\n",
    "    for i in teams:\n",
    "        s=np.append(s,(opps(team,i)))\n",
    "    dfwdis=DataFrame(s,index=teams,columns=[\"prob\"]) \n",
    "    return dfwdis"
   ]
  },
  {
   "cell_type": "code",
   "execution_count": 20,
   "metadata": {},
   "outputs": [
    {
     "data": {
      "text/plain": [
       "0                                      Barabati Stadium\n",
       "1                                     Brabourne Stadium\n",
       "2                                          Buffalo Park\n",
       "3                                 De Beers Diamond Oval\n",
       "4                            Dr DY Patil Sports Academy\n",
       "5     Dr. Y.S. Rajasekhara Reddy ACA-VDCA Cricket St...\n",
       "6                   Dubai International Cricket Stadium\n",
       "7                                          Eden Gardens\n",
       "8                                      Feroz Shah Kotla\n",
       "9                                            Green Park\n",
       "10         Himachal Pradesh Cricket Association Stadium\n",
       "11                               Holkar Cricket Stadium\n",
       "12                   JSCA International Stadium Complex\n",
       "13                                            Kingsmead\n",
       "14                                M Chinnaswamy Stadium\n",
       "15                      MA Chidambaram Stadium, Chepauk\n",
       "16              Maharashtra Cricket Association Stadium\n",
       "17                                        Nehru Stadium\n",
       "18                                New Wanderers Stadium\n",
       "19                                             Newlands\n",
       "20                                      OUTsurance Oval\n",
       "21    Punjab Cricket Association IS Bindra Stadium, ...\n",
       "22           Punjab Cricket Association Stadium, Mohali\n",
       "23            Rajiv Gandhi International Stadium, Uppal\n",
       "24                         Sardar Patel Stadium, Motera\n",
       "25               Saurashtra Cricket Association Stadium\n",
       "26                               Sawai Mansingh Stadium\n",
       "27     Shaheed Veer Narayan Singh International Stadium\n",
       "28                              Sharjah Cricket Stadium\n",
       "29                                 Sheikh Zayed Stadium\n",
       "30                                     St George's Park\n",
       "31                           Subrata Roy Sahara Stadium\n",
       "32                                      SuperSport Park\n",
       "33         Vidarbha Cricket Association Stadium, Jamtha\n",
       "34                                     Wankhede Stadium\n",
       "dtype: object"
      ]
     },
     "execution_count": 20,
     "metadata": {},
     "output_type": "execute_result"
    }
   ],
   "source": [
    "venues"
   ]
  },
  {
   "cell_type": "code",
   "execution_count": 21,
   "metadata": {
    "scrolled": true
   },
   "outputs": [
    {
     "data": {
      "text/html": [
       "<div>\n",
       "<style scoped>\n",
       "    .dataframe tbody tr th:only-of-type {\n",
       "        vertical-align: middle;\n",
       "    }\n",
       "\n",
       "    .dataframe tbody tr th {\n",
       "        vertical-align: top;\n",
       "    }\n",
       "\n",
       "    .dataframe thead th {\n",
       "        text-align: right;\n",
       "    }\n",
       "</style>\n",
       "<table border=\"1\" class=\"dataframe\">\n",
       "  <thead>\n",
       "    <tr style=\"text-align: right;\">\n",
       "      <th></th>\n",
       "      <th>prob</th>\n",
       "    </tr>\n",
       "  </thead>\n",
       "  <tbody>\n",
       "    <tr>\n",
       "      <th>Chennai Super Kings</th>\n",
       "      <td>0.100000</td>\n",
       "    </tr>\n",
       "    <tr>\n",
       "      <th>Deccan Chargers</th>\n",
       "      <td>0.066667</td>\n",
       "    </tr>\n",
       "    <tr>\n",
       "      <th>Delhi Daredevils</th>\n",
       "      <td>0.200000</td>\n",
       "    </tr>\n",
       "    <tr>\n",
       "      <th>Gujarat Lions</th>\n",
       "      <td>0.066667</td>\n",
       "    </tr>\n",
       "    <tr>\n",
       "      <th>Kings XI Punjab</th>\n",
       "      <td>0.166667</td>\n",
       "    </tr>\n",
       "    <tr>\n",
       "      <th>Kochi Tuskers Kerala</th>\n",
       "      <td>0.000000</td>\n",
       "    </tr>\n",
       "    <tr>\n",
       "      <th>Kolkata Knight Riders</th>\n",
       "      <td>0.000000</td>\n",
       "    </tr>\n",
       "    <tr>\n",
       "      <th>Mumbai Indians</th>\n",
       "      <td>0.100000</td>\n",
       "    </tr>\n",
       "    <tr>\n",
       "      <th>Pune Warriors</th>\n",
       "      <td>0.133333</td>\n",
       "    </tr>\n",
       "    <tr>\n",
       "      <th>Rajasthan Royals</th>\n",
       "      <td>0.100000</td>\n",
       "    </tr>\n",
       "    <tr>\n",
       "      <th>Rising Pune Supergiant</th>\n",
       "      <td>0.000000</td>\n",
       "    </tr>\n",
       "    <tr>\n",
       "      <th>Rising Pune Supergiants</th>\n",
       "      <td>0.033333</td>\n",
       "    </tr>\n",
       "    <tr>\n",
       "      <th>Royal Challengers Bangalore</th>\n",
       "      <td>0.000000</td>\n",
       "    </tr>\n",
       "    <tr>\n",
       "      <th>Sunrisers Hyderabad</th>\n",
       "      <td>0.033333</td>\n",
       "    </tr>\n",
       "  </tbody>\n",
       "</table>\n",
       "</div>"
      ],
      "text/plain": [
       "                                 prob\n",
       "Chennai Super Kings          0.100000\n",
       "Deccan Chargers              0.066667\n",
       "Delhi Daredevils             0.200000\n",
       "Gujarat Lions                0.066667\n",
       "Kings XI Punjab              0.166667\n",
       "Kochi Tuskers Kerala         0.000000\n",
       "Kolkata Knight Riders        0.000000\n",
       "Mumbai Indians               0.100000\n",
       "Pune Warriors                0.133333\n",
       "Rajasthan Royals             0.100000\n",
       "Rising Pune Supergiant       0.000000\n",
       "Rising Pune Supergiants      0.033333\n",
       "Royal Challengers Bangalore  0.000000\n",
       "Sunrisers Hyderabad          0.033333"
      ]
     },
     "execution_count": 21,
     "metadata": {},
     "output_type": "execute_result"
    }
   ],
   "source": [
    "oppdis(\"Royal Challengers Bangalore\")"
   ]
  },
  {
   "cell_type": "code",
   "execution_count": 20,
   "metadata": {},
   "outputs": [
    {
     "data": {
      "text/plain": [
       "0.003075156832998483"
      ]
     },
     "execution_count": 20,
     "metadata": {},
     "output_type": "execute_result"
    }
   ],
   "source": [
    "(px4w(\"Kolkata Knight Riders\")[0])*((winven(\"Kolkata Knight Riders\")[\"prob\"])[4])*((oppdis(\"Kolkata Knight Riders\")[\"prob\"])[2])"
   ]
  },
  {
   "cell_type": "code",
   "execution_count": 22,
   "metadata": {},
   "outputs": [],
   "source": [
    "def conprob(yrtm,opp,ven,toss,in51):\n",
    "    if toss==\"field\":\n",
    "        toss=0\n",
    "    if toss==\"bat\":\n",
    "        toss=1\n",
    "    if in51==\"yes\":\n",
    "        pyrtm=home(yrtm,ven)[0]\n",
    "    else:\n",
    "        pyrtm=home(yrtm,ven)[1]\n",
    "    py=(px4w(yrtm)[toss])*pyrtm*((oppdis(yrtm)[\"prob\"])[opp])\n",
    "    if ((winven(yrtm)[\"prob\"])[ven])==0:\n",
    "        tem=.000001\n",
    "        postpre=(px4w(yrtm)[toss])*tem*((oppdis(yrtm)[\"prob\"])[opp])\n",
    "    else :\n",
    "        postpre=(px4w(yrtm)[toss])*((winven(yrtm)[\"prob\"])[ven])*((oppdis(yrtm)[\"prob\"])[opp])\n",
    "    return py"
   ]
  },
  {
   "cell_type": "code",
   "execution_count": 22,
   "metadata": {},
   "outputs": [
    {
     "data": {
      "text/plain": [
       "0.03936200746238058"
      ]
     },
     "execution_count": 22,
     "metadata": {},
     "output_type": "execute_result"
    }
   ],
   "source": [
    "conprob(\"Kolkata Knight Riders\",\"Sunrisers Hyderabad\",\"Eden Gardens\",\"field\",\"yes\")"
   ]
  },
  {
   "cell_type": "code",
   "execution_count": 60,
   "metadata": {},
   "outputs": [
    {
     "data": {
      "text/plain": [
       "0.06429127885522162"
      ]
     },
     "execution_count": 60,
     "metadata": {},
     "output_type": "execute_result"
    }
   ],
   "source": [
    "conprob(\"Kolkata Knight Riders\",\"Sunrisers Hyderabad\",\"Wankhede Stadium\",\"bat\",\"no\")"
   ]
  },
  {
   "cell_type": "markdown",
   "metadata": {},
   "source": [
    "# here we obtain the prior probablity"
   ]
  },
  {
   "cell_type": "code",
   "execution_count": 23,
   "metadata": {},
   "outputs": [
    {
     "name": "stdout",
     "output_type": "stream",
     "text": [
      " plz enter team1 Sunrisers Hyderabad\n",
      " plz enter team2 Delhi Daredevils\n",
      " plz enter venue Rajiv Gandhi International Stadium, Uppal\n",
      "is the venue  home groung for team1(yes/no) yes\n",
      "is the venue home ground for team2(yes/no) no\n",
      " plz enter your bat or field first bat\n"
     ]
    }
   ],
   "source": [
    "in1=input(\" plz enter team1 \", )      \n",
    "in2=input(\" plz enter team2 \", )       \n",
    "in3=input(\" plz enter venue \", ) \n",
    "in51=input(\"is the venue  home groung for team1(yes/no) \", )\n",
    "in61=input(\"is the venue home ground for team2(yes/no) \",  )\n",
    "in4=input(\" plz enter your bat or field first \", )       "
   ]
  },
  {
   "cell_type": "code",
   "execution_count": 24,
   "metadata": {},
   "outputs": [
    {
     "name": "stdout",
     "output_type": "stream",
     "text": [
      "Sunrisers Hyderabad has more probablity to win in the given conditions\n"
     ]
    }
   ],
   "source": [
    "if in4==\"field\":\n",
    "    in5=\"bat\"\n",
    "elif in4==\"bat\":\n",
    "    in5=\"field\"\n",
    "p1=conprob(in1,in2,in3,in4,in51)\n",
    "p2=conprob(in2,in1,in3,in5,in61)\n",
    "if p1>p2:\n",
    "    print(in1,\"has more probablity to win in the given conditions\")\n",
    "elif p2>p1:\n",
    "    print(in2,\"has a greater chance of winning in the given conditions\")\n",
    "elif p2==p1:\n",
    "    print(\"Both teams\",in1,\"and\",in2,\"has equal chances of winning under the given condtions\")\n",
    "elif p1==0 or p2==0 :\n",
    "    print(\"Data inadequate\")\n",
    "else :\n",
    "     print(\"Data inadequate\")"
   ]
  },
  {
   "cell_type": "code",
   "execution_count": 22,
   "metadata": {},
   "outputs": [
    {
     "data": {
      "text/plain": [
       "0.015256735020178573"
      ]
     },
     "execution_count": 22,
     "metadata": {},
     "output_type": "execute_result"
    }
   ],
   "source": [
    "p1"
   ]
  },
  {
   "cell_type": "code",
   "execution_count": 23,
   "metadata": {},
   "outputs": [
    {
     "data": {
      "text/plain": [
       "0.1614990234375"
      ]
     },
     "execution_count": 23,
     "metadata": {},
     "output_type": "execute_result"
    }
   ],
   "source": [
    "p2"
   ]
  },
  {
   "cell_type": "markdown",
   "metadata": {},
   "source": [
    "# here we are dealing with the posterior probablity"
   ]
  },
  {
   "cell_type": "code",
   "execution_count": 25,
   "metadata": {},
   "outputs": [],
   "source": [
    "currdf=pd.read_csv(\"ipl2019.csv\")"
   ]
  },
  {
   "cell_type": "code",
   "execution_count": 26,
   "metadata": {},
   "outputs": [
    {
     "data": {
      "text/plain": [
       "0     9.0\n",
       "1     NaN\n",
       "2     9.0\n",
       "3     NaN\n",
       "4     6.0\n",
       "5     NaN\n",
       "6     6.0\n",
       "7     9.0\n",
       "8     NaN\n",
       "9     5.0\n",
       "10    NaN\n",
       "11    NaN\n",
       "12    5.0\n",
       "13    6.0\n",
       "Name: win, dtype: float64"
      ]
     },
     "execution_count": 26,
     "metadata": {},
     "output_type": "execute_result"
    }
   ],
   "source": [
    "currdf[\"win\"]"
   ]
  },
  {
   "cell_type": "code",
   "execution_count": 27,
   "metadata": {},
   "outputs": [],
   "source": [
    "def postpro(tem1):\n",
    "    for i in np.arange(len(currdf[\"teams\"])):\n",
    "        if (currdf)[\"teams\"][i]==tem1:\n",
    "            ppwin=(currdf)[\"win\"][i]/((currdf)[\"win\"][i]+(currdf)[\"loss\"][i])\n",
    "    return ppwin"
   ]
  },
  {
   "cell_type": "code",
   "execution_count": 28,
   "metadata": {},
   "outputs": [
    {
     "data": {
      "text/plain": [
       "0.015216804236283153"
      ]
     },
     "execution_count": 28,
     "metadata": {},
     "output_type": "execute_result"
    }
   ],
   "source": [
    "postpro(in1)*p1"
   ]
  },
  {
   "cell_type": "code",
   "execution_count": 29,
   "metadata": {},
   "outputs": [
    {
     "data": {
      "text/plain": [
       "0.014577259475218658"
      ]
     },
     "execution_count": 29,
     "metadata": {},
     "output_type": "execute_result"
    }
   ],
   "source": [
    "postpro(in2)*p2"
   ]
  },
  {
   "cell_type": "code",
   "execution_count": 1,
   "metadata": {},
   "outputs": [],
   "source": [
    "import os"
   ]
  },
  {
   "cell_type": "code",
   "execution_count": 25,
   "metadata": {},
   "outputs": [
    {
     "name": "stdout",
     "output_type": "stream",
     "text": [
      " plz enter your team Kolkata Knight Riders\n",
      " plz enter opposition team Royal Challengers Bangalore\n",
      " plz enter your venue  M Chinnaswamy Stadium\n",
      " plz enter your bat or field first field\n"
     ]
    }
   ],
   "source": [
    "in1=input(\" plz enter your team \", )      \n",
    "in2=input(\" plz enter opposition team \", )       \n",
    "in3=input(\" plz enter your venue \", )       \n",
    "in4=input(\" plz enter your bat or field first \", )       "
   ]
  },
  {
   "cell_type": "code",
   "execution_count": 30,
   "metadata": {},
   "outputs": [
    {
     "ename": "NameError",
     "evalue": "name 'field' is not defined",
     "output_type": "error",
     "traceback": [
      "\u001b[1;31m---------------------------------------------------------------------------\u001b[0m",
      "\u001b[1;31mNameError\u001b[0m                                 Traceback (most recent call last)",
      "\u001b[1;32m<ipython-input-30-8c6025f2fc22>\u001b[0m in \u001b[0;36m<module>\u001b[1;34m\u001b[0m\n\u001b[1;32m----> 1\u001b[1;33m \u001b[1;32mif\u001b[0m \u001b[0min4\u001b[0m\u001b[1;33m==\u001b[0m\u001b[0mfield\u001b[0m\u001b[1;33m:\u001b[0m\u001b[1;33m\u001b[0m\u001b[1;33m\u001b[0m\u001b[0m\n\u001b[0m\u001b[0;32m      2\u001b[0m     \u001b[0min5\u001b[0m\u001b[1;33m=\u001b[0m\u001b[1;34m\"bat\"\u001b[0m\u001b[1;33m\u001b[0m\u001b[1;33m\u001b[0m\u001b[0m\n\u001b[0;32m      3\u001b[0m \u001b[1;32melif\u001b[0m \u001b[0min4\u001b[0m\u001b[1;33m==\u001b[0m\u001b[1;34m\"bat\"\u001b[0m\u001b[1;33m:\u001b[0m\u001b[1;33m\u001b[0m\u001b[1;33m\u001b[0m\u001b[0m\n\u001b[0;32m      4\u001b[0m     \u001b[0min5\u001b[0m\u001b[1;33m=\u001b[0m\u001b[1;34m\"field\"\u001b[0m\u001b[1;33m\u001b[0m\u001b[1;33m\u001b[0m\u001b[0m\n\u001b[0;32m      5\u001b[0m \u001b[0mp1\u001b[0m\u001b[1;33m=\u001b[0m\u001b[0mconprob\u001b[0m\u001b[1;33m(\u001b[0m\u001b[0min1\u001b[0m\u001b[1;33m,\u001b[0m\u001b[0min2\u001b[0m\u001b[1;33m,\u001b[0m\u001b[0min3\u001b[0m\u001b[1;33m,\u001b[0m\u001b[0min4\u001b[0m\u001b[1;33m)\u001b[0m\u001b[1;33m*\u001b[0m\u001b[0mpostpro\u001b[0m\u001b[1;33m(\u001b[0m\u001b[0min1\u001b[0m\u001b[1;33m)\u001b[0m\u001b[1;33m\u001b[0m\u001b[1;33m\u001b[0m\u001b[0m\n",
      "\u001b[1;31mNameError\u001b[0m: name 'field' is not defined"
     ]
    }
   ],
   "source": [
    "if in4==\"field\":\n",
    "    in5=\"bat\"\n",
    "elif in4==\"bat\":\n",
    "    in5=\"field\"\n",
    "p1=conprob(in1,in2,in3,in4)*postpro(in1)\n",
    "p2=conprob(in2,in1,in3,in5)*postpro(in2)\n",
    "if p1>p2:\n",
    "    print(\"Your team\",in1,\"has more probablity to win in the given conditions\")\n",
    "elif p2>p1:\n",
    "    print(\"The opposition team \",in2,\"has a greater chance of winning in the givem conditions\")\n",
    "elif p2==p1:\n",
    "    print(\"Both teams\",in1,\"and\",in2,\"has equal chances of winning under the given condtions\")\n",
    "elif p1==0 or p2==0 :\n",
    "    print(\"Data inadequate\")\n",
    "else :\n",
    "     print(\"Data inadequate\")"
   ]
  },
  {
   "cell_type": "code",
   "execution_count": null,
   "metadata": {},
   "outputs": [],
   "source": []
  }
 ],
 "metadata": {
  "kernelspec": {
   "display_name": "Python 3",
   "language": "python",
   "name": "python3"
  },
  "language_info": {
   "codemirror_mode": {
    "name": "ipython",
    "version": 3
   },
   "file_extension": ".py",
   "mimetype": "text/x-python",
   "name": "python",
   "nbconvert_exporter": "python",
   "pygments_lexer": "ipython3",
   "version": "3.7.1"
  }
 },
 "nbformat": 4,
 "nbformat_minor": 2
}
